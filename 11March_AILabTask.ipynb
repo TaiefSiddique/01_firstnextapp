{
  "nbformat": 4,
  "nbformat_minor": 0,
  "metadata": {
    "colab": {
      "provenance": [],
      "authorship_tag": "ABX9TyPpPY6ibObnCX5OzcY/9kRM",
      "include_colab_link": true
    },
    "kernelspec": {
      "name": "python3",
      "display_name": "Python 3"
    },
    "language_info": {
      "name": "python"
    }
  },
  "cells": [
    {
      "cell_type": "markdown",
      "metadata": {
        "id": "view-in-github",
        "colab_type": "text"
      },
      "source": [
        "<a href=\"https://colab.research.google.com/github/TaiefSiddique/01_firstnextapp/blob/main/11March_AILabTask.ipynb\" target=\"_parent\"><img src=\"https://colab.research.google.com/assets/colab-badge.svg\" alt=\"Open In Colab\"/></a>"
      ]
    },
    {
      "cell_type": "code",
      "execution_count": 36,
      "metadata": {
        "colab": {
          "base_uri": "https://localhost:8080/"
        },
        "id": "zSsnO7hm_HJV",
        "outputId": "f44f4ea6-2cb6-4870-9e28-007b937cb2f7"
      },
      "outputs": [
        {
          "output_type": "stream",
          "name": "stdout",
          "text": [
            "3\n",
            "   *\n",
            "\n",
            "  **\n",
            "\n",
            " ***\n",
            "\n"
          ]
        }
      ],
      "source": [
        "h=int(input())\n",
        "for i in range(0,h):\n",
        "  # print(\"\\n\")\n",
        "  for j in range(0,h-i):\n",
        "    print(\" \",end=\"\")\n",
        "  for k in range(j,h):\n",
        "    print(\"*\",end=\"\")\n",
        "  print(\"\\n\")\n",
        ""
      ]
    },
    {
      "cell_type": "code",
      "source": [
        "4"
      ],
      "metadata": {
        "colab": {
          "base_uri": "https://localhost:8080/"
        },
        "id": "45ix3OP3_h6D",
        "outputId": "30b815b4-865e-4cd8-8d36-432d043c9733"
      },
      "execution_count": 30,
      "outputs": [
        {
          "output_type": "execute_result",
          "data": {
            "text/plain": [
              "4"
            ]
          },
          "metadata": {},
          "execution_count": 30
        }
      ]
    },
    {
      "cell_type": "code",
      "source": [],
      "metadata": {
        "id": "EDnefbPnDptK"
      },
      "execution_count": null,
      "outputs": []
    }
  ]
}